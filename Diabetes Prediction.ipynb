{
 "cells": [
  {
   "cell_type": "markdown",
   "id": "496567db",
   "metadata": {},
   "source": [
    "Fields description follow:\n",
    "\n",
    "preg = Number of times pregnant\n",
    "\n",
    "plas = Plasma glucose concentration a 2 hours in an oral glucose tolerance test\n",
    "\n",
    "pres = Diastolic blood pressure (mm Hg)\n",
    "\n",
    "skin = Triceps skin fold thickness (mm)\n",
    "\n",
    "test = 2-Hour serum insulin (mu U/ml)\n",
    "\n",
    "mass = Body mass index (weight in kg/(height in m)^2)\n",
    "\n",
    "pedi = Diabetes pedigree function \n",
    "\n",
    "age = Age (years)\n",
    "\n",
    "class = Class variable (1:tested positive for diabetes, 0: tested negative for diabetes)"
   ]
  },
  {
   "cell_type": "code",
   "execution_count": 3,
   "id": "3b4a64ce",
   "metadata": {},
   "outputs": [
    {
     "data": {
      "text/html": [
       "<div>\n",
       "<style scoped>\n",
       "    .dataframe tbody tr th:only-of-type {\n",
       "        vertical-align: middle;\n",
       "    }\n",
       "\n",
       "    .dataframe tbody tr th {\n",
       "        vertical-align: top;\n",
       "    }\n",
       "\n",
       "    .dataframe thead th {\n",
       "        text-align: right;\n",
       "    }\n",
       "</style>\n",
       "<table border=\"1\" class=\"dataframe\">\n",
       "  <thead>\n",
       "    <tr style=\"text-align: right;\">\n",
       "      <th></th>\n",
       "      <th>Pregnancies</th>\n",
       "      <th>Glucose</th>\n",
       "      <th>BloodPressure</th>\n",
       "      <th>SkinThickness</th>\n",
       "      <th>Insulin</th>\n",
       "      <th>BMI</th>\n",
       "      <th>DiabetesPedigreeFunction</th>\n",
       "      <th>Age</th>\n",
       "      <th>Class</th>\n",
       "    </tr>\n",
       "  </thead>\n",
       "  <tbody>\n",
       "    <tr>\n",
       "      <th>0</th>\n",
       "      <td>6</td>\n",
       "      <td>148</td>\n",
       "      <td>72</td>\n",
       "      <td>35</td>\n",
       "      <td>0</td>\n",
       "      <td>33.6</td>\n",
       "      <td>0.627</td>\n",
       "      <td>50</td>\n",
       "      <td>1</td>\n",
       "    </tr>\n",
       "    <tr>\n",
       "      <th>1</th>\n",
       "      <td>1</td>\n",
       "      <td>85</td>\n",
       "      <td>66</td>\n",
       "      <td>29</td>\n",
       "      <td>0</td>\n",
       "      <td>26.6</td>\n",
       "      <td>0.351</td>\n",
       "      <td>31</td>\n",
       "      <td>0</td>\n",
       "    </tr>\n",
       "    <tr>\n",
       "      <th>2</th>\n",
       "      <td>8</td>\n",
       "      <td>183</td>\n",
       "      <td>64</td>\n",
       "      <td>0</td>\n",
       "      <td>0</td>\n",
       "      <td>23.3</td>\n",
       "      <td>0.672</td>\n",
       "      <td>32</td>\n",
       "      <td>1</td>\n",
       "    </tr>\n",
       "    <tr>\n",
       "      <th>3</th>\n",
       "      <td>1</td>\n",
       "      <td>89</td>\n",
       "      <td>66</td>\n",
       "      <td>23</td>\n",
       "      <td>94</td>\n",
       "      <td>28.1</td>\n",
       "      <td>0.167</td>\n",
       "      <td>21</td>\n",
       "      <td>0</td>\n",
       "    </tr>\n",
       "    <tr>\n",
       "      <th>4</th>\n",
       "      <td>0</td>\n",
       "      <td>137</td>\n",
       "      <td>40</td>\n",
       "      <td>35</td>\n",
       "      <td>168</td>\n",
       "      <td>43.1</td>\n",
       "      <td>2.288</td>\n",
       "      <td>33</td>\n",
       "      <td>1</td>\n",
       "    </tr>\n",
       "  </tbody>\n",
       "</table>\n",
       "</div>"
      ],
      "text/plain": [
       "   Pregnancies  Glucose  BloodPressure  SkinThickness  Insulin   BMI  \\\n",
       "0            6      148             72             35        0  33.6   \n",
       "1            1       85             66             29        0  26.6   \n",
       "2            8      183             64              0        0  23.3   \n",
       "3            1       89             66             23       94  28.1   \n",
       "4            0      137             40             35      168  43.1   \n",
       "\n",
       "   DiabetesPedigreeFunction  Age  Class  \n",
       "0                     0.627   50      1  \n",
       "1                     0.351   31      0  \n",
       "2                     0.672   32      1  \n",
       "3                     0.167   21      0  \n",
       "4                     2.288   33      1  "
      ]
     },
     "execution_count": 3,
     "metadata": {},
     "output_type": "execute_result"
    }
   ],
   "source": [
    "import pandas as pd\n",
    "data = pd.read_csv(\"pima-indians-diabetes.csv\",delimiter=\",\")\n",
    "data.head()"
   ]
  },
  {
   "cell_type": "markdown",
   "id": "33dde649",
   "metadata": {},
   "source": [
    "Feature Engineering\n",
    "(1)Feature Cleaning\n",
    "(2)Feature Transformation\n",
    "(3)Feature Selection"
   ]
  },
  {
   "cell_type": "code",
   "execution_count": 4,
   "id": "46757cbc",
   "metadata": {},
   "outputs": [
    {
     "name": "stdout",
     "output_type": "stream",
     "text": [
      "['Pregnancies', 'Glucose', 'BloodPressure', 'SkinThickness', 'Insulin', 'BMI', 'DiabetesPedigreeFunction', 'Age', 'Class']\n"
     ]
    }
   ],
   "source": [
    "print(data.columns.tolist()) "
   ]
  },
  {
   "cell_type": "code",
   "execution_count": 5,
   "id": "f8a0098f",
   "metadata": {},
   "outputs": [
    {
     "data": {
      "text/html": [
       "<div>\n",
       "<style scoped>\n",
       "    .dataframe tbody tr th:only-of-type {\n",
       "        vertical-align: middle;\n",
       "    }\n",
       "\n",
       "    .dataframe tbody tr th {\n",
       "        vertical-align: top;\n",
       "    }\n",
       "\n",
       "    .dataframe thead th {\n",
       "        text-align: right;\n",
       "    }\n",
       "</style>\n",
       "<table border=\"1\" class=\"dataframe\">\n",
       "  <thead>\n",
       "    <tr style=\"text-align: right;\">\n",
       "      <th></th>\n",
       "      <th>Pregnancies</th>\n",
       "      <th>Glucose</th>\n",
       "      <th>BloodPressure</th>\n",
       "      <th>SkinThickness</th>\n",
       "      <th>Insulin</th>\n",
       "      <th>BMI</th>\n",
       "      <th>DiabetesPedigreeFunction</th>\n",
       "      <th>Age</th>\n",
       "      <th>Class</th>\n",
       "    </tr>\n",
       "  </thead>\n",
       "  <tbody>\n",
       "    <tr>\n",
       "      <th>0</th>\n",
       "      <td>6</td>\n",
       "      <td>148.0</td>\n",
       "      <td>72.0</td>\n",
       "      <td>35.0</td>\n",
       "      <td>NaN</td>\n",
       "      <td>33.6</td>\n",
       "      <td>0.627</td>\n",
       "      <td>50</td>\n",
       "      <td>1</td>\n",
       "    </tr>\n",
       "    <tr>\n",
       "      <th>1</th>\n",
       "      <td>1</td>\n",
       "      <td>85.0</td>\n",
       "      <td>66.0</td>\n",
       "      <td>29.0</td>\n",
       "      <td>NaN</td>\n",
       "      <td>26.6</td>\n",
       "      <td>0.351</td>\n",
       "      <td>31</td>\n",
       "      <td>0</td>\n",
       "    </tr>\n",
       "    <tr>\n",
       "      <th>2</th>\n",
       "      <td>8</td>\n",
       "      <td>183.0</td>\n",
       "      <td>64.0</td>\n",
       "      <td>NaN</td>\n",
       "      <td>NaN</td>\n",
       "      <td>23.3</td>\n",
       "      <td>0.672</td>\n",
       "      <td>32</td>\n",
       "      <td>1</td>\n",
       "    </tr>\n",
       "    <tr>\n",
       "      <th>3</th>\n",
       "      <td>1</td>\n",
       "      <td>89.0</td>\n",
       "      <td>66.0</td>\n",
       "      <td>23.0</td>\n",
       "      <td>94.0</td>\n",
       "      <td>28.1</td>\n",
       "      <td>0.167</td>\n",
       "      <td>21</td>\n",
       "      <td>0</td>\n",
       "    </tr>\n",
       "    <tr>\n",
       "      <th>4</th>\n",
       "      <td>0</td>\n",
       "      <td>137.0</td>\n",
       "      <td>40.0</td>\n",
       "      <td>35.0</td>\n",
       "      <td>168.0</td>\n",
       "      <td>43.1</td>\n",
       "      <td>2.288</td>\n",
       "      <td>33</td>\n",
       "      <td>1</td>\n",
       "    </tr>\n",
       "  </tbody>\n",
       "</table>\n",
       "</div>"
      ],
      "text/plain": [
       "   Pregnancies  Glucose  BloodPressure  SkinThickness  Insulin   BMI  \\\n",
       "0            6    148.0           72.0           35.0      NaN  33.6   \n",
       "1            1     85.0           66.0           29.0      NaN  26.6   \n",
       "2            8    183.0           64.0            NaN      NaN  23.3   \n",
       "3            1     89.0           66.0           23.0     94.0  28.1   \n",
       "4            0    137.0           40.0           35.0    168.0  43.1   \n",
       "\n",
       "   DiabetesPedigreeFunction  Age  Class  \n",
       "0                     0.627   50      1  \n",
       "1                     0.351   31      0  \n",
       "2                     0.672   32      1  \n",
       "3                     0.167   21      0  \n",
       "4                     2.288   33      1  "
      ]
     },
     "execution_count": 5,
     "metadata": {},
     "output_type": "execute_result"
    }
   ],
   "source": [
    "import numpy as np\n",
    "# data['Pregnancies'].replace((0),(np.nan),inplace=True)  不該轉換成 NaN，0 是可能合理的值，有可能沒懷孕過\n",
    "data['Glucose'].replace((0),(np.nan),inplace=True)\n",
    "data['BloodPressure'].replace((0),(np.nan),inplace=True)\n",
    "data['SkinThickness'].replace((0),(np.nan),inplace=True)\n",
    "data['Insulin'].replace((0),(np.nan),inplace=True)\n",
    "data['BMI'].replace((0),(np.nan),inplace=True)\n",
    "# data['DiabetesPedigreeFunction'].replace((0),(np.nan),inplace=True) 一個人家族中有可能完全沒有人有糖尿病\n",
    "data['Age'].replace((0),(np.nan),inplace=True)\n",
    "data.head()"
   ]
  },
  {
   "cell_type": "markdown",
   "id": "270694d6",
   "metadata": {},
   "source": [
    "(1)Feature Cleaning\n",
    "Missing Value"
   ]
  },
  {
   "cell_type": "code",
   "execution_count": 6,
   "id": "2a21de55",
   "metadata": {},
   "outputs": [
    {
     "data": {
      "text/plain": [
       "Pregnancies                   0\n",
       "Glucose                       5\n",
       "BloodPressure                35\n",
       "SkinThickness               227\n",
       "Insulin                     374\n",
       "BMI                          11\n",
       "DiabetesPedigreeFunction      0\n",
       "Age                           0\n",
       "Class                         0\n",
       "dtype: int64"
      ]
     },
     "execution_count": 6,
     "metadata": {},
     "output_type": "execute_result"
    }
   ],
   "source": [
    "data.isna().sum() #check missing values amount"
   ]
  },
  {
   "cell_type": "markdown",
   "id": "0af940cf",
   "metadata": {},
   "source": [
    "根據 Class = 0 和 Class = 1 計算各欄位的平均數\n",
    "並處理missing value"
   ]
  },
  {
   "cell_type": "code",
   "execution_count": 7,
   "id": "3667cbf5",
   "metadata": {},
   "outputs": [],
   "source": [
    "\n",
    "cols_to_fill = ['Glucose', 'BloodPressure', 'SkinThickness', 'Insulin', 'BMI']\n",
    "\n",
    "for col in cols_to_fill:\n",
    "    data[col] = data[col].fillna(data.groupby('Class')[col].transform('mean').round())\n"
   ]
  },
  {
   "cell_type": "code",
   "execution_count": 8,
   "id": "8e6db169",
   "metadata": {},
   "outputs": [
    {
     "data": {
      "text/plain": [
       "Pregnancies                 0\n",
       "Glucose                     0\n",
       "BloodPressure               0\n",
       "SkinThickness               0\n",
       "Insulin                     0\n",
       "BMI                         0\n",
       "DiabetesPedigreeFunction    0\n",
       "Age                         0\n",
       "Class                       0\n",
       "dtype: int64"
      ]
     },
     "execution_count": 8,
     "metadata": {},
     "output_type": "execute_result"
    }
   ],
   "source": [
    "data.isna().sum() #再次確認是否有遺漏miss value"
   ]
  },
  {
   "cell_type": "code",
   "execution_count": 9,
   "id": "522912c3",
   "metadata": {},
   "outputs": [
    {
     "data": {
      "text/html": [
       "<div>\n",
       "<style scoped>\n",
       "    .dataframe tbody tr th:only-of-type {\n",
       "        vertical-align: middle;\n",
       "    }\n",
       "\n",
       "    .dataframe tbody tr th {\n",
       "        vertical-align: top;\n",
       "    }\n",
       "\n",
       "    .dataframe thead th {\n",
       "        text-align: right;\n",
       "    }\n",
       "</style>\n",
       "<table border=\"1\" class=\"dataframe\">\n",
       "  <thead>\n",
       "    <tr style=\"text-align: right;\">\n",
       "      <th></th>\n",
       "      <th>Pregnancies</th>\n",
       "      <th>Glucose</th>\n",
       "      <th>BloodPressure</th>\n",
       "      <th>SkinThickness</th>\n",
       "      <th>Insulin</th>\n",
       "      <th>BMI</th>\n",
       "      <th>DiabetesPedigreeFunction</th>\n",
       "      <th>Age</th>\n",
       "      <th>Class</th>\n",
       "    </tr>\n",
       "  </thead>\n",
       "  <tbody>\n",
       "    <tr>\n",
       "      <th>0</th>\n",
       "      <td>6</td>\n",
       "      <td>148.0</td>\n",
       "      <td>72.0</td>\n",
       "      <td>35.0</td>\n",
       "      <td>207.0</td>\n",
       "      <td>33.6</td>\n",
       "      <td>0.627</td>\n",
       "      <td>50</td>\n",
       "      <td>1</td>\n",
       "    </tr>\n",
       "    <tr>\n",
       "      <th>1</th>\n",
       "      <td>1</td>\n",
       "      <td>85.0</td>\n",
       "      <td>66.0</td>\n",
       "      <td>29.0</td>\n",
       "      <td>130.0</td>\n",
       "      <td>26.6</td>\n",
       "      <td>0.351</td>\n",
       "      <td>31</td>\n",
       "      <td>0</td>\n",
       "    </tr>\n",
       "    <tr>\n",
       "      <th>2</th>\n",
       "      <td>8</td>\n",
       "      <td>183.0</td>\n",
       "      <td>64.0</td>\n",
       "      <td>33.0</td>\n",
       "      <td>207.0</td>\n",
       "      <td>23.3</td>\n",
       "      <td>0.672</td>\n",
       "      <td>32</td>\n",
       "      <td>1</td>\n",
       "    </tr>\n",
       "    <tr>\n",
       "      <th>3</th>\n",
       "      <td>1</td>\n",
       "      <td>89.0</td>\n",
       "      <td>66.0</td>\n",
       "      <td>23.0</td>\n",
       "      <td>94.0</td>\n",
       "      <td>28.1</td>\n",
       "      <td>0.167</td>\n",
       "      <td>21</td>\n",
       "      <td>0</td>\n",
       "    </tr>\n",
       "    <tr>\n",
       "      <th>4</th>\n",
       "      <td>0</td>\n",
       "      <td>137.0</td>\n",
       "      <td>40.0</td>\n",
       "      <td>35.0</td>\n",
       "      <td>168.0</td>\n",
       "      <td>43.1</td>\n",
       "      <td>2.288</td>\n",
       "      <td>33</td>\n",
       "      <td>1</td>\n",
       "    </tr>\n",
       "  </tbody>\n",
       "</table>\n",
       "</div>"
      ],
      "text/plain": [
       "   Pregnancies  Glucose  BloodPressure  SkinThickness  Insulin   BMI  \\\n",
       "0            6    148.0           72.0           35.0    207.0  33.6   \n",
       "1            1     85.0           66.0           29.0    130.0  26.6   \n",
       "2            8    183.0           64.0           33.0    207.0  23.3   \n",
       "3            1     89.0           66.0           23.0     94.0  28.1   \n",
       "4            0    137.0           40.0           35.0    168.0  43.1   \n",
       "\n",
       "   DiabetesPedigreeFunction  Age  Class  \n",
       "0                     0.627   50      1  \n",
       "1                     0.351   31      0  \n",
       "2                     0.672   32      1  \n",
       "3                     0.167   21      0  \n",
       "4                     2.288   33      1  "
      ]
     },
     "execution_count": 9,
     "metadata": {},
     "output_type": "execute_result"
    }
   ],
   "source": [
    "data.head()"
   ]
  },
  {
   "cell_type": "code",
   "execution_count": 10,
   "id": "5799d50d",
   "metadata": {},
   "outputs": [],
   "source": [
    "# 取出最後 100 筆作為預測資料\n",
    "inference_data = data.tail(100)\n",
    "\n",
    "# 匯出成 CSV 檔案\n",
    "inference_data.to_csv('pima-indians-diabetes_tableau.csv', index=False)"
   ]
  },
  {
   "cell_type": "markdown",
   "id": "f4aa5fab",
   "metadata": {},
   "source": [
    "(2)Feature Transformation"
   ]
  },
  {
   "cell_type": "code",
   "execution_count": 11,
   "id": "0845dae8",
   "metadata": {},
   "outputs": [
    {
     "name": "stdout",
     "output_type": "stream",
     "text": [
      "Glucose                      0\n",
      "BloodPressure               14\n",
      "SkinThickness               53\n",
      "Insulin                     26\n",
      "DiabetesPedigreeFunction    29\n",
      "dtype: int64\n"
     ]
    }
   ],
   "source": [
    "Q1 = data[['Glucose', 'BloodPressure', 'SkinThickness', 'Insulin', 'DiabetesPedigreeFunction']].quantile(0.25)\n",
    "Q3 = data[['Glucose', 'BloodPressure', 'SkinThickness', 'Insulin', 'DiabetesPedigreeFunction']].quantile(0.75)\n",
    "IQR = Q3 - Q1\n",
    "\n",
    "# 篩選出異常值\n",
    "outliers = ((data[['Glucose', 'BloodPressure', 'SkinThickness', 'Insulin', 'DiabetesPedigreeFunction']] < (Q1 - 1.5 * IQR)) |\n",
    "            (data[['Glucose', 'BloodPressure', 'SkinThickness', 'Insulin', 'DiabetesPedigreeFunction']] > (Q3 + 1.5 * IQR)))\n",
    "\n",
    "print(outliers.sum())  # 每個欄位異常值數量\n"
   ]
  },
  {
   "cell_type": "code",
   "execution_count": 12,
   "id": "1f72cfc7",
   "metadata": {},
   "outputs": [
    {
     "data": {
      "image/png": "[encoded data removed]",
      "text/plain": [
       "<Figure size 864x432 with 1 Axes>"
      ]
     },
     "metadata": {
      "needs_background": "light"
     },
     "output_type": "display_data"
    }
   ],
   "source": [
    "import matplotlib.pyplot as plt\n",
    "import seaborn as sns\n",
    "\n",
    "plt.figure(figsize=(12,6))\n",
    "sns.boxplot(data=data[['Glucose', 'BloodPressure', 'SkinThickness', 'Insulin', 'DiabetesPedigreeFunction']])\n",
    "plt.show()\n"
   ]
  },
  {
   "cell_type": "code",
   "execution_count": 13,
   "id": "131d9f89",
   "metadata": {},
   "outputs": [
    {
     "data": {
      "text/html": [
       "<div>\n",
       "<style scoped>\n",
       "    .dataframe tbody tr th:only-of-type {\n",
       "        vertical-align: middle;\n",
       "    }\n",
       "\n",
       "    .dataframe tbody tr th {\n",
       "        vertical-align: top;\n",
       "    }\n",
       "\n",
       "    .dataframe thead th {\n",
       "        text-align: right;\n",
       "    }\n",
       "</style>\n",
       "<table border=\"1\" class=\"dataframe\">\n",
       "  <thead>\n",
       "    <tr style=\"text-align: right;\">\n",
       "      <th></th>\n",
       "      <th>Pregnancies</th>\n",
       "      <th>Glucose</th>\n",
       "      <th>BloodPressure</th>\n",
       "      <th>SkinThickness</th>\n",
       "      <th>Insulin</th>\n",
       "      <th>BMI</th>\n",
       "      <th>DiabetesPedigreeFunction</th>\n",
       "      <th>Age</th>\n",
       "      <th>Class</th>\n",
       "    </tr>\n",
       "  </thead>\n",
       "  <tbody>\n",
       "    <tr>\n",
       "      <th>0</th>\n",
       "      <td>6</td>\n",
       "      <td>0.670968</td>\n",
       "      <td>0.000</td>\n",
       "      <td>0.875</td>\n",
       "      <td>0.900585</td>\n",
       "      <td>33.6</td>\n",
       "      <td>0.665359</td>\n",
       "      <td>50</td>\n",
       "      <td>1</td>\n",
       "    </tr>\n",
       "    <tr>\n",
       "      <th>1</th>\n",
       "      <td>1</td>\n",
       "      <td>0.264516</td>\n",
       "      <td>-0.375</td>\n",
       "      <td>0.125</td>\n",
       "      <td>0.000000</td>\n",
       "      <td>26.6</td>\n",
       "      <td>-0.056209</td>\n",
       "      <td>31</td>\n",
       "      <td>0</td>\n",
       "    </tr>\n",
       "    <tr>\n",
       "      <th>2</th>\n",
       "      <td>8</td>\n",
       "      <td>0.896774</td>\n",
       "      <td>-0.500</td>\n",
       "      <td>0.625</td>\n",
       "      <td>0.900585</td>\n",
       "      <td>23.3</td>\n",
       "      <td>0.783007</td>\n",
       "      <td>32</td>\n",
       "      <td>1</td>\n",
       "    </tr>\n",
       "    <tr>\n",
       "      <th>3</th>\n",
       "      <td>1</td>\n",
       "      <td>0.290323</td>\n",
       "      <td>-0.375</td>\n",
       "      <td>-0.625</td>\n",
       "      <td>-0.421053</td>\n",
       "      <td>28.1</td>\n",
       "      <td>-0.537255</td>\n",
       "      <td>21</td>\n",
       "      <td>0</td>\n",
       "    </tr>\n",
       "    <tr>\n",
       "      <th>4</th>\n",
       "      <td>0</td>\n",
       "      <td>0.600000</td>\n",
       "      <td>-2.000</td>\n",
       "      <td>0.875</td>\n",
       "      <td>0.444444</td>\n",
       "      <td>43.1</td>\n",
       "      <td>5.007843</td>\n",
       "      <td>33</td>\n",
       "      <td>1</td>\n",
       "    </tr>\n",
       "  </tbody>\n",
       "</table>\n",
       "</div>"
      ],
      "text/plain": [
       "   Pregnancies   Glucose  BloodPressure  SkinThickness   Insulin   BMI  \\\n",
       "0            6  0.670968          0.000          0.875  0.900585  33.6   \n",
       "1            1  0.264516         -0.375          0.125  0.000000  26.6   \n",
       "2            8  0.896774         -0.500          0.625  0.900585  23.3   \n",
       "3            1  0.290323         -0.375         -0.625 -0.421053  28.1   \n",
       "4            0  0.600000         -2.000          0.875  0.444444  43.1   \n",
       "\n",
       "   DiabetesPedigreeFunction  Age  Class  \n",
       "0                  0.665359   50      1  \n",
       "1                 -0.056209   31      0  \n",
       "2                  0.783007   32      1  \n",
       "3                 -0.537255   21      0  \n",
       "4                  5.007843   33      1  "
      ]
     },
     "execution_count": 13,
     "metadata": {},
     "output_type": "execute_result"
    }
   ],
   "source": [
    "from sklearn.preprocessing import MinMaxScaler, RobustScaler\n",
    "\n",
    "minmax_scaler = MinMaxScaler()\n",
    "robust_scaler = RobustScaler()\n",
    "\n",
    "# 用 MinMaxScaler 處理沒有離群值的欄位\n",
    "data[['Glucose']] = minmax_scaler.fit_transform(data[['Glucose']])\n",
    "\n",
    "# 用 RobustScaler 處理有離群值的欄位\n",
    "cols_with_outliers = ['BloodPressure', 'SkinThickness', 'Insulin', 'DiabetesPedigreeFunction']\n",
    "data[cols_with_outliers] = robust_scaler.fit_transform(data[cols_with_outliers])\n",
    "\n",
    "data.head()"
   ]
  },
  {
   "cell_type": "markdown",
   "id": "db022f33",
   "metadata": {},
   "source": [
    "(2)Feature Transformation\n",
    "Categorical Encoding"
   ]
  },
  {
   "cell_type": "code",
   "execution_count": 14,
   "id": "6d53f99d",
   "metadata": {},
   "outputs": [],
   "source": [
    "bins = [-np.inf, 18.5, 25, 30, np.inf]\n",
    "labels = [0, 1, 2, 3]\n",
    "# Underweight\n",
    "# Healthy Weight\n",
    "# Overweight\n",
    "# Obesity\n",
    "data['BMI'] = pd.cut(data['BMI'], bins=bins, labels=labels)"
   ]
  },
  {
   "cell_type": "code",
   "execution_count": 15,
   "id": "8bcdecb7",
   "metadata": {},
   "outputs": [
    {
     "data": {
      "text/plain": [
       "[3, 2, 1, 0]\n",
       "Categories (4, int64): [0 < 1 < 2 < 3]"
      ]
     },
     "execution_count": 15,
     "metadata": {},
     "output_type": "execute_result"
    }
   ],
   "source": [
    "data['BMI'].unique() #查看BMI資料有哪些"
   ]
  },
  {
   "cell_type": "code",
   "execution_count": 16,
   "id": "a74bb850",
   "metadata": {},
   "outputs": [],
   "source": [
    "import pandas as pd\n",
    "\n",
    "# 定義年齡區間邊界\n",
    "bins = [10, 20, 30, 40, 50, 60, 70, 80, float('inf')]\n",
    "labels = [1, 2, 3, 4, 5, 6, 7, 8]\n",
    "\n",
    "# 套用分箱\n",
    "data['Age'] = pd.cut(data['Age'], bins=bins, labels=labels)\n"
   ]
  },
  {
   "cell_type": "code",
   "execution_count": 17,
   "id": "f4412470",
   "metadata": {},
   "outputs": [
    {
     "data": {
      "text/plain": [
       "[4, 3, 2, 5, 6, 7, 8]\n",
       "Categories (7, int64): [2 < 3 < 4 < 5 < 6 < 7 < 8]"
      ]
     },
     "execution_count": 17,
     "metadata": {},
     "output_type": "execute_result"
    }
   ],
   "source": [
    "data['Age'].unique() #查看Age資料有哪些\t"
   ]
  },
  {
   "cell_type": "markdown",
   "id": "cf914255",
   "metadata": {},
   "source": [
    "(3)Feature Selection\n",
    "Feature Importance Filter"
   ]
  },
  {
   "cell_type": "code",
   "execution_count": 18,
   "id": "936ab2a6",
   "metadata": {},
   "outputs": [
    {
     "data": {
      "text/plain": [
       "Class                       1.000000\n",
       "Glucose                     0.495901\n",
       "Insulin                     0.411877\n",
       "SkinThickness               0.311242\n",
       "Pregnancies                 0.221898\n",
       "BloodPressure               0.174175\n",
       "DiabetesPedigreeFunction    0.173844\n",
       "Name: Class, dtype: float64"
      ]
     },
     "execution_count": 18,
     "metadata": {},
     "output_type": "execute_result"
    }
   ],
   "source": [
    "data_corr = data.corr()\n",
    "data_corr['Class'].sort_values(ascending = False)"
   ]
  },
  {
   "cell_type": "code",
   "execution_count": 19,
   "id": "72fac403",
   "metadata": {},
   "outputs": [
    {
     "name": "stdout",
     "output_type": "stream",
     "text": [
      "                    Feature  Importance\n",
      "4                   Insulin    0.372540\n",
      "1                   Glucose    0.172805\n",
      "3             SkinThickness    0.153023\n",
      "6  DiabetesPedigreeFunction    0.089585\n",
      "2             BloodPressure    0.066835\n",
      "0               Pregnancies    0.062168\n",
      "7                       Age    0.048802\n",
      "5                       BMI    0.034242\n"
     ]
    }
   ],
   "source": [
    "# 分出訓練 + 測試資料（前 668 筆）\n",
    "train_test_data = data.head(len(data) - 100)\n",
    "# 分出訓練 + 測試資料（後 100 筆）\n",
    "inference_data = data.tail(100)\n",
    "\n",
    "# 定義特徵 X 和目標變數 Y\n",
    "X = train_test_data.drop(['Class'], axis=1)\n",
    "Y = train_test_data['Class']\n",
    "\n",
    "\n",
    "# 建立隨機森林模型並訓練\n",
    "from sklearn.ensemble import RandomForestClassifier\n",
    "model = RandomForestClassifier(n_estimators=100, random_state=42)\n",
    "model.fit(X, Y)\n",
    "\n",
    "# 計算特徵的重要性\n",
    "feature_importance = model.feature_importances_\n",
    "\n",
    "# 顯示每個特徵的重要性\n",
    "feature_names = X.columns\n",
    "feature_importance_df = pd.DataFrame({\n",
    "    'Feature': feature_names,\n",
    "    'Importance': feature_importance\n",
    "})\n",
    "\n",
    "# 根據重要性排序\n",
    "feature_importance_df = feature_importance_df.sort_values(by='Importance', ascending=False)\n",
    "print(feature_importance_df)\n"
   ]
  },
  {
   "cell_type": "code",
   "execution_count": 20,
   "id": "df559821",
   "metadata": {},
   "outputs": [],
   "source": [
    "\n",
    "train_test_data.to_csv('pima-indians-diabetes_traintest.csv', index=False, encoding='utf-8-sig')\n",
    "inference_data.to_csv('pima-indians-diabetes_predict.csv', index=False, encoding='utf-8-sig')"
   ]
  },
  {
   "cell_type": "code",
   "execution_count": 21,
   "id": "0729b262",
   "metadata": {},
   "outputs": [],
   "source": [
    "from sklearn.model_selection import train_test_split\n",
    "X_train, X_test, Y_train, Y_test = train_test_split(X, Y, test_size=0.3,random_state=42)"
   ]
  },
  {
   "cell_type": "code",
   "execution_count": 22,
   "id": "6bbdc4ff",
   "metadata": {},
   "outputs": [
    {
     "data": {
      "text/html": [
       "<style>#sk-container-id-1 {color: black;}#sk-container-id-1 pre{padding: 0;}#sk-container-id-1 div.sk-toggleable {background-color: white;}#sk-container-id-1 label.sk-toggleable__label {cursor: pointer;display: block;width: 100%;margin-bottom: 0;padding: 0.3em;box-sizing: border-box;text-align: center;}#sk-container-id-1 label.sk-toggleable__label-arrow:before {content: \"▸\";float: left;margin-right: 0.25em;color: #696969;}#sk-container-id-1 label.sk-toggleable__label-arrow:hover:before {color: black;}#sk-container-id-1 div.sk-estimator:hover label.sk-toggleable__label-arrow:before {color: black;}#sk-container-id-1 div.sk-toggleable__content {max-height: 0;max-width: 0;overflow: hidden;text-align: left;background-color: #f0f8ff;}#sk-container-id-1 div.sk-toggleable__content pre {margin: 0.2em;color: black;border-radius: 0.25em;background-color: #f0f8ff;}#sk-container-id-1 input.sk-toggleable__control:checked~div.sk-toggleable__content {max-height: 200px;max-width: 100%;overflow: auto;}#sk-container-id-1 input.sk-toggleable__control:checked~label.sk-toggleable__label-arrow:before {content: \"▾\";}#sk-container-id-1 div.sk-estimator input.sk-toggleable__control:checked~label.sk-toggleable__label {background-color: #d4ebff;}#sk-container-id-1 div.sk-label input.sk-toggleable__control:checked~label.sk-toggleable__label {background-color: #d4ebff;}#sk-container-id-1 input.sk-hidden--visually {border: 0;clip: rect(1px 1px 1px 1px);clip: rect(1px, 1px, 1px, 1px);height: 1px;margin: -1px;overflow: hidden;padding: 0;position: absolute;width: 1px;}#sk-container-id-1 div.sk-estimator {font-family: monospace;background-color: #f0f8ff;border: 1px dotted black;border-radius: 0.25em;box-sizing: border-box;margin-bottom: 0.5em;}#sk-container-id-1 div.sk-estimator:hover {background-color: #d4ebff;}#sk-container-id-1 div.sk-parallel-item::after {content: \"\";width: 100%;border-bottom: 1px solid gray;flex-grow: 1;}#sk-container-id-1 div.sk-label:hover label.sk-toggleable__label {background-color: #d4ebff;}#sk-container-id-1 div.sk-serial::before {content: \"\";position: absolute;border-left: 1px solid gray;box-sizing: border-box;top: 0;bottom: 0;left: 50%;z-index: 0;}#sk-container-id-1 div.sk-serial {display: flex;flex-direction: column;align-items: center;background-color: white;padding-right: 0.2em;padding-left: 0.2em;position: relative;}#sk-container-id-1 div.sk-item {position: relative;z-index: 1;}#sk-container-id-1 div.sk-parallel {display: flex;align-items: stretch;justify-content: center;background-color: white;position: relative;}#sk-container-id-1 div.sk-item::before, #sk-container-id-1 div.sk-parallel-item::before {content: \"\";position: absolute;border-left: 1px solid gray;box-sizing: border-box;top: 0;bottom: 0;left: 50%;z-index: -1;}#sk-container-id-1 div.sk-parallel-item {display: flex;flex-direction: column;z-index: 1;position: relative;background-color: white;}#sk-container-id-1 div.sk-parallel-item:first-child::after {align-self: flex-end;width: 50%;}#sk-container-id-1 div.sk-parallel-item:last-child::after {align-self: flex-start;width: 50%;}#sk-container-id-1 div.sk-parallel-item:only-child::after {width: 0;}#sk-container-id-1 div.sk-dashed-wrapped {border: 1px dashed gray;margin: 0 0.4em 0.5em 0.4em;box-sizing: border-box;padding-bottom: 0.4em;background-color: white;}#sk-container-id-1 div.sk-label label {font-family: monospace;font-weight: bold;display: inline-block;line-height: 1.2em;}#sk-container-id-1 div.sk-label-container {text-align: center;}#sk-container-id-1 div.sk-container {/* jupyter's `normalize.less` sets `[hidden] { display: none; }` but bootstrap.min.css set `[hidden] { display: none !important; }` so we also need the `!important` here to be able to override the default hidden behavior on the sphinx rendered scikit-learn.org. See: https://github.com/scikit-learn/scikit-learn/issues/21755 */display: inline-block !important;position: relative;}#sk-container-id-1 div.sk-text-repr-fallback {display: none;}</style><div id=\"sk-container-id-1\" class=\"sk-top-container\"><div class=\"sk-text-repr-fallback\"><pre>LogisticRegression(random_state=42)</pre><b>In a Jupyter environment, please rerun this cell to show the HTML representation or trust the notebook. <br />On GitHub, the HTML representation is unable to render, please try loading this page with nbviewer.org.</b></div><div class=\"sk-container\" hidden><div class=\"sk-item\"><div class=\"sk-estimator sk-toggleable\"><input class=\"sk-toggleable__control sk-hidden--visually\" id=\"sk-estimator-id-1\" type=\"checkbox\" checked><label for=\"sk-estimator-id-1\" class=\"sk-toggleable__label sk-toggleable__label-arrow\">LogisticRegression</label><div class=\"sk-toggleable__content\"><pre>LogisticRegression(random_state=42)</pre></div></div></div></div></div>"
      ],
      "text/plain": [
       "LogisticRegression(random_state=42)"
      ]
     },
     "execution_count": 22,
     "metadata": {},
     "output_type": "execute_result"
    }
   ],
   "source": [
    "from sklearn.linear_model import LogisticRegression\n",
    "log_reg_model = LogisticRegression(random_state=42)\n",
    "log_reg_model.fit(X_train, Y_train)"
   ]
  },
  {
   "cell_type": "code",
   "execution_count": 23,
   "id": "3e3ce31d",
   "metadata": {},
   "outputs": [],
   "source": [
    "# 使用測試集進行預測\n",
    "Y_pred_log_reg = log_reg_model.predict(X_test)"
   ]
  },
  {
   "cell_type": "code",
   "execution_count": 24,
   "id": "e031cfdb",
   "metadata": {},
   "outputs": [
    {
     "name": "stdout",
     "output_type": "stream",
     "text": [
      "Logistic Regression Accuracy: 0.8308\n",
      "Confusion Matrix:\n",
      "[[119  17]\n",
      " [ 17  48]]\n",
      "Classification Report:\n",
      "              precision    recall  f1-score   support\n",
      "\n",
      "           0       0.88      0.88      0.88       136\n",
      "           1       0.74      0.74      0.74        65\n",
      "\n",
      "    accuracy                           0.83       201\n",
      "   macro avg       0.81      0.81      0.81       201\n",
      "weighted avg       0.83      0.83      0.83       201\n",
      "\n"
     ]
    }
   ],
   "source": [
    "from sklearn.metrics import accuracy_score, confusion_matrix, classification_report\n",
    "\n",
    "# 計算準確率\n",
    "accuracy_log_reg = accuracy_score(Y_test, Y_pred_log_reg)\n",
    "print(f\"Logistic Regression Accuracy: {accuracy_log_reg:.4f}\")\n",
    "\n",
    "# 混淆矩陣\n",
    "conf_matrix_log_reg = confusion_matrix(Y_test, Y_pred_log_reg)\n",
    "print(\"Confusion Matrix:\")\n",
    "print(conf_matrix_log_reg)\n",
    "\n",
    "# 顯示分類報告（精確度、召回率、F1 分數等）\n",
    "class_report_log_reg = classification_report(Y_test, Y_pred_log_reg)\n",
    "print(\"Classification Report:\")\n",
    "print(class_report_log_reg)\n"
   ]
  },
  {
   "cell_type": "code",
   "execution_count": 25,
   "id": "58e17a46",
   "metadata": {},
   "outputs": [
    {
     "name": "stdout",
     "output_type": "stream",
     "text": [
      "XGBoost Accuracy: 0.8756218905472637\n",
      "Confusion Matrix:\n",
      " [[126  10]\n",
      " [ 15  50]]\n",
      "Classification Report:\n",
      "               precision    recall  f1-score   support\n",
      "\n",
      "           0       0.89      0.93      0.91       136\n",
      "           1       0.83      0.77      0.80        65\n",
      "\n",
      "    accuracy                           0.88       201\n",
      "   macro avg       0.86      0.85      0.85       201\n",
      "weighted avg       0.87      0.88      0.87       201\n",
      "\n"
     ]
    },
    {
     "name": "stderr",
     "output_type": "stream",
     "text": [
      "c:\\Users\\z3020\\anaconda3\\lib\\site-packages\\xgboost\\core.py:158: UserWarning: [22:09:20] WARNING: C:\\buildkite-agent\\builds\\buildkite-windows-cpu-autoscaling-group-i-08cbc0333d8d4aae1-1\\xgboost\\xgboost-ci-windows\\src\\learner.cc:740: \n",
      "Parameters: { \"use_label_encoder\" } are not used.\n",
      "\n",
      "  warnings.warn(smsg, UserWarning)\n"
     ]
    }
   ],
   "source": [
    "from sklearn.model_selection import train_test_split\n",
    "from sklearn.metrics import accuracy_score, confusion_matrix, classification_report\n",
    "from xgboost import XGBClassifier\n",
    "\n",
    "# 分割資料\n",
    "X_train, X_test, Y_train, Y_test = train_test_split(X, Y, test_size=0.3, random_state=42)\n",
    "\n",
    "# 建立模型\n",
    "xgb_model = XGBClassifier(\n",
    "    n_estimators=100,\n",
    "    use_label_encoder=False,\n",
    "    eval_metric='logloss',\n",
    "    enable_categorical=True,\n",
    "    random_state=42\n",
    ")\n",
    "\n",
    "# 訓練模型\n",
    "xgb_model.fit(X_train, Y_train)\n",
    "\n",
    "# 預測\n",
    "xgb_pred = xgb_model.predict(X_test)\n",
    "\n",
    "# 評估結果\n",
    "print(\"XGBoost Accuracy:\", accuracy_score(Y_test, xgb_pred))\n",
    "print(\"Confusion Matrix:\\n\", confusion_matrix(Y_test, xgb_pred))\n",
    "print(\"Classification Report:\\n\", classification_report(Y_test, xgb_pred))\n"
   ]
  },
  {
   "cell_type": "code",
   "execution_count": null,
   "id": "147d1bd9",
   "metadata": {},
   "outputs": [
    {
     "data": {
      "text/plain": [
       "['xgb_model.pkl']"
      ]
     },
     "execution_count": 26,
     "metadata": {},
     "output_type": "execute_result"
    }
   ],
   "source": [
    "import joblib\n",
    "\n",
    "joblib.dump(xgb_model, 'xgb_model.pkl')"
   ]
  },
  {
   "cell_type": "code",
   "execution_count": null,
   "id": "ce7f8ecb",
   "metadata": {},
   "outputs": [],
   "source": [
    "import joblib\n",
    "import pandas as pd\n",
    "\n",
    "loaded_model = joblib.load('xgb_model.pkl')\n",
    "\n",
    "predict_data = pd.read_csv('pima-indians-diabetes_predict.csv')\n",
    "\n",
    "predict_data = predict_data.drop(columns=['Class'], errors='ignore')\n",
    "\n",
    "predictions = loaded_model.predict(predict_data)\n",
    "\n",
    "# 載入 Tableau 原始資料\n",
    "tableau_data = pd.read_csv('pima-indians-diabetes_tableau.csv')\n",
    "tableau_data['Predicted'] = predictions\n",
    "tableau_data.to_csv('pima-indians-diabetes_tableau_with_predictions.csv', index=False, encoding='utf-8-sig')\n"
   ]
  },
  {
   "cell_type": "code",
   "execution_count": null,
   "id": "ca537411",
   "metadata": {},
   "outputs": [],
   "source": [
    "\n",
    "# 讀取原始 CSV\n",
    "df = pd.read_csv(\"pima-indians-diabetes_tableau_with_predictions.csv\")\n",
    "\n",
    "# 建立欄位名稱對應表（英文 → 中文）\n",
    "column_mapping = {\n",
    "    \"Pregnancies\": \"懷孕次數\",\n",
    "    \"Glucose\": \"血糖值\",\n",
    "    \"BloodPressure\": \"血壓\",\n",
    "    \"SkinThickness\": \"皮膚厚度\",\n",
    "    \"Insulin\": \"胰島素\",\n",
    "    \"BMI\": \"身體質量指數\",\n",
    "    \"DiabetesPedigreeFunction\": \"糖尿病家族指數\",\n",
    "    \"Age\": \"年齡\",\n",
    "    \"Class\": \"真實標籤\",\n",
    "    \"Predicted\": \"預測結果\"\n",
    "}\n",
    "\n",
    "df.rename(columns=column_mapping, inplace=True)\n",
    "\n",
    "df.to_csv(\"pima-indians-diabetes_tableau_with_predictions_ch.csv\", index=False, encoding='utf-8-sig') \n"
   ]
  }
 ],
 "metadata": {
  "kernelspec": {
   "display_name": "base",
   "language": "python",
   "name": "python3"
  },
  "language_info": {
   "codemirror_mode": {
    "name": "ipython",
    "version": 3
   },
   "file_extension": ".py",
   "mimetype": "text/x-python",
   "name": "python",
   "nbconvert_exporter": "python",
   "pygments_lexer": "ipython3",
   "version": "3.8.8"
  }
 },
 "nbformat": 4,
 "nbformat_minor": 5
}
